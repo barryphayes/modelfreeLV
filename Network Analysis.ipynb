{
 "cells": [
  {
   "cell_type": "markdown",
   "metadata": {
    "id": "sTF28zgQmJjT"
   },
   "source": [
    "# Network Analysis\n",
    "This file plots the feeders and finds the furthest loads from the transformers"
   ]
  },
  {
   "cell_type": "code",
   "execution_count": 1,
   "metadata": {
    "colab": {
     "base_uri": "https://localhost:8080/"
    },
    "executionInfo": {
     "elapsed": 10512,
     "status": "ok",
     "timestamp": 1706365068470,
     "user": {
      "displayName": "Anthony Gerard O'Malley",
      "userId": "08354629277054091219"
     },
     "user_tz": 0
    },
    "id": "dl0BXr6RmI0d",
    "outputId": "055b311d-1602-44bf-badb-dd65f27cf804"
   },
   "outputs": [
    {
     "name": "stdout",
     "output_type": "stream",
     "text": [
      "Requirement already satisfied: networkx in c:\\users\\omalleyag\\appdata\\local\\anaconda3\\lib\\site-packages (3.1)\n",
      "Requirement already satisfied: xlrd in c:\\users\\omalleyag\\appdata\\local\\anaconda3\\lib\\site-packages (2.0.1)\n"
     ]
    }
   ],
   "source": [
    "!pip install networkx\n",
    "!pip install xlrd\n",
    "import networkx as nx\n",
    "import pandas as pd\n",
    "import matplotlib.pyplot as plt\n",
    "import matplotlib.cm as cm\n",
    "import matplotlib.patches as mpatches\n",
    "\n",
    "import numpy as np\n",
    "import seaborn as sns\n",
    "sns.set_style('whitegrid')\n"
   ]
  },
  {
   "cell_type": "code",
   "execution_count": 2,
   "metadata": {
    "executionInfo": {
     "elapsed": 287,
     "status": "ok",
     "timestamp": 1706364593808,
     "user": {
      "displayName": "Anthony Gerard O'Malley",
      "userId": "08354629277054091219"
     },
     "user_tz": 0
    },
    "id": "P27cSE7comid"
   },
   "outputs": [],
   "source": [
    "def construct_network(feeder_data):\n",
    "    # Create a directed graph using NetworkX\n",
    "    G = nx.Graph()\n",
    "\n",
    "    # Add edges to the graph based on the feeder data\n",
    "    for col, row in feeder_data.iterrows():\n",
    "        source_node = row['NodeA']\n",
    "        end_node = row['NodeB']\n",
    "        distance = row['D[m]']\n",
    "        phases = row['Phase']\n",
    "        load = row['Load']\n",
    "\n",
    "        G.add_edge(source_node, end_node, distance=distance, phases=phases, load=load)\n",
    "\n",
    "    return G\n",
    "\n",
    "def plot_network(network, feeder_data, ax):\n",
    "    # Get X and Y coordinates for each node\n",
    "    node_positions = {row['Node']: (row['X'], row['Y']) for _, row in xy_position.iterrows()}\n",
    "\n",
    "    # Create a colormap based on the number of phases\n",
    "    edge_colors = ['blue', 'green', 'red', 'black'] \n",
    "\n",
    "    # Map edge colors based on the phases\n",
    "    edge_color_mapping = {i: edge_colors[i - 1] for i in range(1,5)}\n",
    "\n",
    "    # Extract phase information for each edge\n",
    "    edge_phases = [network.edges[edge]['phases'] for edge in network.edges]\n",
    "    ## accounting for load 1 not having an entry\n",
    "    node_colors = [\"skyblue\"] + ['orange' if feeder_data.loc[node]['Load'] == 1 else 'none' for node in range(len(feeder_data))]\n",
    "    node_size = [5] + [1]*len(feeder_data)\n",
    "\n",
    "\n",
    "    # Plot the network using matplotlib with specified node and edge colors\n",
    "    nx.draw(network, ax = ax, pos=node_positions, with_labels=False, node_size=node_size, node_color=node_colors, font_size=8, edge_color=[edge_color_mapping[phase] for phase in edge_phases], width = 0.5)\n",
    "    \n",
    "    # Label nodes where loads are at NodeB\n",
    "    labeled_nodes = set()\n",
    "    overlapping_nodes = set()\n",
    "    seen_coordinates = set()\n",
    "\n",
    "    for node, (x, y) in node_positions.items():\n",
    "        load_data = feeder_data[feeder_data['NodeB'] == node]['Load']\n",
    "        if not load_data.empty and load_data.values[0] == 1:\n",
    "            labeled_nodes.add(node)\n",
    "            #plt.text(x, y, f\"{node:.0f}\", fontsize=8, ha='right', va='bottom')\n",
    "            if (x, y) in seen_coordinates:\n",
    "                overlapping_nodes.add(node)\n",
    "            else:\n",
    "                seen_coordinates.add((x, y))\n",
    "    \n",
    "    # Print the number of labeled nodes\n",
    "    num_labeled_nodes = len(labeled_nodes)\n",
    "    if num_labeled_nodes > 0:\n",
    "        print(f\"There are {num_labeled_nodes} labeled nodes with Load=1.\")\n",
    "        print(f\"Labeled nodes: {labeled_nodes}\")\n",
    "\n",
    "        # Print the number of overlapping labeled nodes\n",
    "        num_overlapping_nodes = len(overlapping_nodes)\n",
    "        if num_overlapping_nodes > 0:\n",
    "            print(f\"{num_overlapping_nodes} of them are overlapping.\")\n",
    "            print(f\"Overlapping nodes: {overlapping_nodes}\")\n",
    "        else:\n",
    "            print(\"There are no overlapping labeled nodes.\")\n",
    "    else:\n",
    "        print(\"There are no labeled nodes with Load=1.\")\n",
    "    # Create a custom legend\n",
    "    legend_patches = [mpatches.Patch(color=edge_colors[i], label=f'Phase {i+1}') for i in range(3)] + [mpatches.Patch(color=edge_colors[3], label=f'3 Phase')]\n",
    "    leg = ax.legend(handles=legend_patches, title='Phases', fontsize = 8)\n",
    "    leg.get_title().set_fontsize('8')"
   ]
  },
  {
   "cell_type": "code",
   "execution_count": 3,
   "metadata": {},
   "outputs": [],
   "source": [
    "def OpenFile(Net,Feed):\n",
    "    try:\n",
    "        with open(f\"NandoLV/LVNetworkModels/Network_{Net}/Feeder_{Feed}/Feeder_Data.xls\", 'rb') as f:\n",
    "            feeder_data = pd.read_excel(f)\n",
    "        with open(f\"NandoLV/LVNetworkModels/Network_{Net}/Feeder_{Feed}/XY_Position.xls\", 'rb') as f:\n",
    "            xy_position = pd.read_excel(f)\n",
    "        return True, feeder_data, xy_position\n",
    "    except:\n",
    "        return False, 0, 0"
   ]
  },
  {
   "cell_type": "code",
   "execution_count": 4,
   "metadata": {},
   "outputs": [],
   "source": [
    "def count_overlapping_nodes(feeder_data, xy_position):\n",
    "    # Label nodes where loads are at NodeB\n",
    "    labeled_nodes = set()\n",
    "    overlapping_nodes = set()\n",
    "    seen_coordinates = set()\n",
    "    \n",
    "    node_positions = {row['Node']: (row['X'], row['Y']) for _, row in xy_position.iterrows()}\n",
    "\n",
    "    for node, (x, y) in node_positions.items():\n",
    "        load_data = feeder_data[feeder_data['NodeB'] == node]['Load']\n",
    "        if not load_data.empty and load_data.values[0] == 1:\n",
    "            labeled_nodes.add(node)\n",
    "            if (x, y) in seen_coordinates:\n",
    "                overlapping_nodes.add(node)\n",
    "            else:\n",
    "                seen_coordinates.add((x, y))\n",
    "\n",
    "    # Print the number of labeled nodes\n",
    "    num_labeled_nodes = len(labeled_nodes)\n",
    "    if num_labeled_nodes > 0:\n",
    "        print(f\"There are {num_labeled_nodes} labeled nodes with Load=1.\")\n",
    "        #print(f\"Labeled nodes: {labeled_nodes}\")\n",
    "\n",
    "        # Print the number of overlapping labeled nodes\n",
    "        num_overlapping_nodes = len(overlapping_nodes)\n",
    "        if num_overlapping_nodes > 0:\n",
    "            print(f\"{num_overlapping_nodes} of them are overlapping.\")\n",
    "            #print(f\"Overlapping nodes: {overlapping_nodes}\")\n",
    "        else:\n",
    "            print(\"There are no overlapping labeled nodes.\")\n",
    "    else:\n",
    "        print(\"There are no labeled nodes with Load=1.\")\n",
    "    return num_labeled_nodes, num_overlapping_nodes\n"
   ]
  },
  {
   "cell_type": "code",
   "execution_count": 5,
   "metadata": {
    "colab": {
     "base_uri": "https://localhost:8080/",
     "height": 1000
    },
    "executionInfo": {
     "elapsed": 2594,
     "status": "ok",
     "timestamp": 1706365088744,
     "user": {
      "displayName": "Anthony Gerard O'Malley",
      "userId": "08354629277054091219"
     },
     "user_tz": 0
    },
    "id": "XQxVNlgamfPV",
    "outputId": "6c083355-cdf6-4708-c91a-e7caa536bbdb"
   },
   "outputs": [
    {
     "name": "stdout",
     "output_type": "stream",
     "text": [
      "Number Customers: 303 3\n",
      "Max Line Lengths: 769.5020351532431 42.82540249283682\n"
     ]
    }
   ],
   "source": [
    "\n",
    "distances = []\n",
    "nodes = []\n",
    "feed_info = {}\n",
    "number_cust = []\n",
    "for i in range(1,27):\n",
    "    feed = 0\n",
    "    while True:\n",
    "        feed +=1\n",
    "        exception, feeder_data, xy_position = OpenFile(i, feed)\n",
    "        if not exception:\n",
    "            break\n",
    "        network = construct_network(feeder_data)\n",
    "        node_positions = {node: (row['X'], row['Y']) for node, row in xy_position.iterrows()}\n",
    "        \n",
    "        shortest_distances = {}\n",
    "        Load_Number = 1\n",
    "        # NODE B HAS LOAD\n",
    "        for load_node in feeder_data[feeder_data['Load'] == 1]['NodeB']:\n",
    "            shortest_distances[Load_Number] = nx.shortest_path_length(network, source=load_node, target=1, weight=\"distance\")\n",
    "            Load_Number +=1\n",
    "        \n",
    "\n",
    "        \n",
    "        \n",
    "        #print(f\"Network {i}, Feeder {feed}\")\n",
    "        number_cust.append(Load_Number)\n",
    "        #feed_info[f\"{i}, {feed}\"] = count_overlapping_nodes(feeder_data, xy_position)\n",
    "        \n",
    "         \n",
    "        max_pair = max(shortest_distances.items(), key=lambda x: x[1])\n",
    "        #print(f\"node {max_pair[0]} has length {max_pair[1]}m\")\n",
    "        distances.append(max_pair[1])\n",
    "        #nodes.append(max_pair[0])\n",
    "\n",
    "\n",
    "\n",
    "print(\"Number Customers:\", max(number_cust), min(number_cust))\n",
    "print(\"Max Line Lengths:\", max(distances),min(distances))"
   ]
  },
  {
   "cell_type": "code",
   "execution_count": null,
   "metadata": {},
   "outputs": [],
   "source": [
    "\"\"\"\n",
    "Load_Number = 1\n",
    "shortest_distances = {}\n",
    "for load_node in feeder_data[feeder_data['Load'] == 1]['NodeB']:\n",
    "    shortest_distances[Load_Number] = nx.shortest_path_length(network, source=load_node, target=1, weight=\"distance\")\n",
    "    Load_Number +=1\n",
    "print(\"the nodes in order of distance are; \", np.array(sorted(shortest_distances.items(), key=lambda x: x[1]))[:,0])\n",
    "#print(f\"furtest node from transformer has distance {max(shortest_distances)}\")\n",
    "max_pair = max(shortest_distances.items(), key=lambda x: x[1])\n",
    "print(f\"node {max_pair[0]} has length {max_pair[1]}m\")\n",
    "\"\"\""
   ]
  },
  {
   "cell_type": "code",
   "execution_count": 8,
   "metadata": {},
   "outputs": [
    {
     "name": "stdout",
     "output_type": "stream",
     "text": [
      "There are 55 labeled nodes with Load=1.\n",
      "Labeled nodes: {896.0, 898.0, 387.0, 388.0, 899.0, 900.0, 264.0, 522.0, 778.0, 780.0, 906.0, 785.0, 276.0, 406.0, 539.0, 289.0, 34.0, 676.0, 682.0, 556.0, 813.0, 47.0, 688.0, 817.0, 178.0, 562.0, 563.0, 314.0, 701.0, 702.0, 320.0, 835.0, 70.0, 327.0, 73.0, 74.0, 458.0, 208.0, 337.0, 83.0, 342.0, 860.0, 349.0, 861.0, 225.0, 611.0, 614.0, 619.0, 755.0, 629.0, 502.0, 886.0, 248.0, 249.0, 639.0}\n",
      "2 of them are overlapping.\n",
      "Overlapping nodes: {249.0, 74.0}\n",
      "There are 175 labeled nodes with Load=1.\n",
      "Labeled nodes: {1024.0, 514.0, 515.0, 2051.0, 520.0, 1545.0, 1546.0, 526.0, 527.0, 1559.0, 2075.0, 541.0, 1054.0, 545.0, 2085.0, 550.0, 1070.0, 2096.0, 2099.0, 2100.0, 569.0, 1594.0, 1596.0, 573.0, 1598.0, 67.0, 589.0, 2125.0, 591.0, 595.0, 1629.0, 1630.0, 1120.0, 613.0, 614.0, 616.0, 619.0, 2164.0, 1655.0, 1659.0, 637.0, 639.0, 641.0, 642.0, 1154.0, 2177.0, 2184.0, 1164.0, 1166.0, 1171.0, 2195.0, 151.0, 2199.0, 666.0, 667.0, 1691.0, 1190.0, 2220.0, 689.0, 177.0, 691.0, 692.0, 693.0, 2227.0, 185.0, 186.0, 1209.0, 1723.0, 1220.0, 1224.0, 1226.0, 2250.0, 1228.0, 1740.0, 2252.0, 2256.0, 1752.0, 2266.0, 221.0, 222.0, 733.0, 734.0, 742.0, 1766.0, 1771.0, 1777.0, 1269.0, 1785.0, 762.0, 763.0, 253.0, 1799.0, 1801.0, 267.0, 268.0, 1805.0, 1807.0, 1809.0, 279.0, 280.0, 1303.0, 1817.0, 798.0, 1822.0, 293.0, 1318.0, 1319.0, 1830.0, 1321.0, 1831.0, 1323.0, 1325.0, 1839.0, 1329.0, 306.0, 307.0, 308.0, 309.0, 1330.0, 311.0, 1848.0, 1856.0, 1857.0, 322.0, 1349.0, 1865.0, 1867.0, 1870.0, 1883.0, 348.0, 863.0, 1888.0, 865.0, 363.0, 878.0, 879.0, 880.0, 1394.0, 1906.0, 1399.0, 377.0, 1919.0, 900.0, 1414.0, 1416.0, 393.0, 395.0, 910.0, 1936.0, 1939.0, 407.0, 409.0, 1952.0, 1953.0, 1957.0, 1959.0, 1457.0, 435.0, 437.0, 463.0, 1487.0, 1488.0, 2005.0, 1504.0, 483.0, 1515.0, 1517.0, 2030.0, 1520.0, 2033.0, 499.0, 502.0, 2039.0, 2040.0, 1530.0}\n",
      "5 of them are overlapping.\n",
      "Overlapping nodes: {515.0, 879.0, 309.0, 693.0, 186.0}\n"
     ]
    },
    {
     "data": {
      "text/plain": [
       "Text(0.5, 1.0, 'Network 2 Feeder 1')"
      ]
     },
     "execution_count": 8,
     "metadata": {},
     "output_type": "execute_result"
    },
    {
     "data": {
      "image/png": "[encoded data removed]",
      "text/plain": [
       "<Figure size 630x300 with 2 Axes>"
      ]
     },
     "metadata": {},
     "output_type": "display_data"
    }
   ],
   "source": [
    "fig, ax = plt.subplots(1,2, figsize = (6.3, 3))\n",
    "\n",
    "_, feeder_data, xy_position =OpenFile(1,1)\n",
    "network = construct_network(feeder_data)\n",
    "plot_network(network, feeder_data, ax[0])\n",
    "\n",
    "_, feeder_data, xy_position =OpenFile(2,1)\n",
    "network = construct_network(feeder_data)\n",
    "plot_network(network, feeder_data, ax[1])\n",
    "plt.rcParams['font.family'] = 'Times New Roman'\n",
    "\n",
    "\n",
    "ax[0].set_title(\"Network 1 Feeder 1\", fontsize = 8)\n",
    "ax[1].set_title(\"Network 2 Feeder 1\", fontsize = 8)\n"
   ]
  },
  {
   "cell_type": "code",
   "execution_count": 9,
   "metadata": {
    "colab": {
     "base_uri": "https://localhost:8080/"
    },
    "executionInfo": {
     "elapsed": 8,
     "status": "ok",
     "timestamp": 1706361327764,
     "user": {
      "displayName": "Anthony Gerard O'Malley",
      "userId": "08354629277054091219"
     },
     "user_tz": 0
    },
    "id": "vK2W1UYseCNU",
    "outputId": "3632f53a-f527-4b43-86db-c547671b533f"
   },
   "outputs": [
    {
     "data": {
      "text/plain": [
       "[293.7458579295033,\n",
       " 273.2239591311875,\n",
       " 303.2998397951172,\n",
       " 650.9812418931792,\n",
       " 492.278189597738,\n",
       " 654.6211586231033,\n",
       " 720.6292603822284,\n",
       " 630.5349230924996,\n",
       " 370.75641563655194,\n",
       " 431.07011072590575,\n",
       " 413.6686371637536,\n",
       " 640.0095525219161,\n",
       " 413.4794628851769,\n",
       " 374.0004037717868,\n",
       " 272.24854799604606,\n",
       " 180.73224960720546,\n",
       " 403.7063518542329,\n",
       " 327.4163659366517,\n",
       " 437.06367634742475,\n",
       " 279.44217498351105,\n",
       " 417.1882298184566,\n",
       " 93.69230471667943,\n",
       " 217.44974609388433,\n",
       " 429.392601237861,\n",
       " 367.0596408513076,\n",
       " 354.75301611534667,\n",
       " 234.6620191719559,\n",
       " 218.9321150280719,\n",
       " 201.9647327316034,\n",
       " 269.9363367393588,\n",
       " 156.71534350403027,\n",
       " 464.64546664518224,\n",
       " 320.28261301708454,\n",
       " 254.57212387843063,\n",
       " 465.28975141150465,\n",
       " 250.00208947479388,\n",
       " 133.25142462258415,\n",
       " 239.1051261308375,\n",
       " 439.5946070034917,\n",
       " 769.5020351532431,\n",
       " 333.4178358743352,\n",
       " 48.84700019822817,\n",
       " 51.11276048736285,\n",
       " 58.14265722728385,\n",
       " 424.30543294605104,\n",
       " 57.40193228881275,\n",
       " 122.64176923490645,\n",
       " 212.79060680397876,\n",
       " 391.4542042933425,\n",
       " 251.7484051706672,\n",
       " 226.23363193270262,\n",
       " 290.4550566720524,\n",
       " 250.2240131202347,\n",
       " 217.2412620334423,\n",
       " 498.0670450391069,\n",
       " 598.42537020206,\n",
       " 435.33888776648416,\n",
       " 625.7437189373309,\n",
       " 505.03836379439286,\n",
       " 482.07381836196737,\n",
       " 510.2826687637974,\n",
       " 330.83729434869747,\n",
       " 111.7979922081685,\n",
       " 402.34078369970973,\n",
       " 534.0445353893358,\n",
       " 69.54141702946303,\n",
       " 101.56252393067344,\n",
       " 379.2146354270202,\n",
       " 80.59837112749014,\n",
       " 80.39983637453949,\n",
       " 515.3283391380119,\n",
       " 352.07678108603073,\n",
       " 491.6204036809985,\n",
       " 524.8699376277594,\n",
       " 386.696365169879,\n",
       " 286.4272926053459,\n",
       " 260.271899067371,\n",
       " 274.0294954462437,\n",
       " 318.9662730926859,\n",
       " 511.09836762122643,\n",
       " 481.00046012574524,\n",
       " 614.6493754481887,\n",
       " 350.09814856463566,\n",
       " 601.3176113465412,\n",
       " 524.7513239665797,\n",
       " 496.42065950757205,\n",
       " 495.6446343486067,\n",
       " 675.224424763297,\n",
       " 371.622515882173,\n",
       " 210.93461857289805,\n",
       " 365.70496551962657,\n",
       " 322.42413396715085,\n",
       " 315.8954013018469,\n",
       " 263.0330611509584,\n",
       " 267.36841215265673,\n",
       " 248.64896674339366,\n",
       " 471.2052431689387,\n",
       " 426.282606369421,\n",
       " 349.24685012580903,\n",
       " 575.0989511684132,\n",
       " 355.51946246356795,\n",
       " 446.6995385528255,\n",
       " 52.82997068726582,\n",
       " 187.70248720238973,\n",
       " 198.51427876356425,\n",
       " 50.9636976494784,\n",
       " 42.82540249283682,\n",
       " 288.7905822097091,\n",
       " 196.18147181928947,\n",
       " 211.0633932211188,\n",
       " 119.88041068235773,\n",
       " 247.74392390120113,\n",
       " 332.9347085195939,\n",
       " 233.12560153100875,\n",
       " 511.83934422012413,\n",
       " 443.02076867270193,\n",
       " 332.5290831775477,\n",
       " 346.9921087530799,\n",
       " 390.9809691904603,\n",
       " 278.29983026684005,\n",
       " 85.2947977208101,\n",
       " 217.32126004754994,\n",
       " 298.96947678514914,\n",
       " 327.00883548202677,\n",
       " 309.0180584117714,\n",
       " 179.07482378500424,\n",
       " 118.27673818350067,\n",
       " 143.22156724489588]"
      ]
     },
     "execution_count": 9,
     "metadata": {},
     "output_type": "execute_result"
    }
   ],
   "source": [
    "distances"
   ]
  },
  {
   "cell_type": "code",
   "execution_count": 10,
   "metadata": {
    "colab": {
     "base_uri": "https://localhost:8080/"
    },
    "executionInfo": {
     "elapsed": 6,
     "status": "ok",
     "timestamp": 1706361327764,
     "user": {
      "displayName": "Anthony Gerard O'Malley",
      "userId": "08354629277054091219"
     },
     "user_tz": 0
    },
    "id": "aeDaaY4hizPf",
    "outputId": "df332765-7f77-4c21-b6e6-757f248d7c27"
   },
   "outputs": [
    {
     "data": {
      "text/plain": [
       "0"
      ]
     },
     "execution_count": 10,
     "metadata": {},
     "output_type": "execute_result"
    }
   ],
   "source": [
    "len(nodes)"
   ]
  },
  {
   "cell_type": "code",
   "execution_count": 11,
   "metadata": {
    "id": "FbDpVIYDizJu"
   },
   "outputs": [
    {
     "name": "stdout",
     "output_type": "stream",
     "text": [
      "[]\n"
     ]
    }
   ],
   "source": [
    "print(nodes)"
   ]
  },
  {
   "cell_type": "code",
   "execution_count": null,
   "metadata": {},
   "outputs": [],
   "source": []
  }
 ],
 "metadata": {
  "colab": {
   "authorship_tag": "ABX9TyPgiN7m7XZqyBfVv/pCEj0/",
   "provenance": []
  },
  "kernelspec": {
   "display_name": "Python 3 (ipykernel)",
   "language": "python",
   "name": "python3"
  },
  "language_info": {
   "codemirror_mode": {
    "name": "ipython",
    "version": 3
   },
   "file_extension": ".py",
   "mimetype": "text/x-python",
   "name": "python",
   "nbconvert_exporter": "python",
   "pygments_lexer": "ipython3",
   "version": "3.11.5"
  }
 },
 "nbformat": 4,
 "nbformat_minor": 1
}
